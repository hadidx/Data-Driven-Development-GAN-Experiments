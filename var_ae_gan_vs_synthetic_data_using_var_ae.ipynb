{
 "cells": [
  {
   "cell_type": "markdown",
   "metadata": {
    "id": "e1_Y75QXJS6h"
   },
   "source": [
    "### Setup"
   ]
  },
  {
   "cell_type": "code",
   "execution_count": 1,
   "metadata": {},
   "outputs": [],
   "source": [
    "#do not run unless tensorflow can't find cuda\n",
    "import os\n",
    "os.environ['CUDA_DIR'] = \"/usr/lib/cuda\"\n",
    "os.environ['XLA_FLAGS'] = \"--xla_gpu_cuda_data_dir=/usr/lib/cuda\""
   ]
  },
  {
   "cell_type": "code",
   "execution_count": 2,
   "metadata": {
    "id": "WZKbyU2-AiY-"
   },
   "outputs": [
    {
     "name": "stderr",
     "output_type": "stream",
     "text": [
      "2024-04-28 22:37:55.179028: I tensorflow/core/util/port.cc:113] oneDNN custom operations are on. You may see slightly different numerical results due to floating-point round-off errors from different computation orders. To turn them off, set the environment variable `TF_ENABLE_ONEDNN_OPTS=0`.\n",
      "2024-04-28 22:37:55.200969: E external/local_xla/xla/stream_executor/cuda/cuda_dnn.cc:9261] Unable to register cuDNN factory: Attempting to register factory for plugin cuDNN when one has already been registered\n",
      "2024-04-28 22:37:55.200985: E external/local_xla/xla/stream_executor/cuda/cuda_fft.cc:607] Unable to register cuFFT factory: Attempting to register factory for plugin cuFFT when one has already been registered\n",
      "2024-04-28 22:37:55.201833: E external/local_xla/xla/stream_executor/cuda/cuda_blas.cc:1515] Unable to register cuBLAS factory: Attempting to register factory for plugin cuBLAS when one has already been registered\n",
      "2024-04-28 22:37:55.206049: I tensorflow/core/platform/cpu_feature_guard.cc:182] This TensorFlow binary is optimized to use available CPU instructions in performance-critical operations.\n",
      "To enable the following instructions: AVX2 AVX512F AVX512_VNNI AVX512_BF16 FMA, in other operations, rebuild TensorFlow with the appropriate compiler flags.\n",
      "2024-04-28 22:37:55.582234: W tensorflow/compiler/tf2tensorrt/utils/py_utils.cc:38] TF-TRT Warning: Could not find TensorRT\n"
     ]
    }
   ],
   "source": [
    "import tensorflow as tf"
   ]
  },
  {
   "cell_type": "code",
   "execution_count": 3,
   "metadata": {
    "colab": {
     "base_uri": "https://localhost:8080/",
     "height": 35
    },
    "id": "wx-zNbLqB4K8",
    "outputId": "fe71c9b7-b49b-4ae6-a0b4-8a70f5785e48"
   },
   "outputs": [
    {
     "data": {
      "text/plain": [
       "'2.15.0'"
      ]
     },
     "execution_count": 3,
     "metadata": {},
     "output_type": "execute_result"
    }
   ],
   "source": [
    "tf.__version__"
   ]
  },
  {
   "cell_type": "code",
   "execution_count": 5,
   "metadata": {
    "id": "YfIk2es3hJEd"
   },
   "outputs": [],
   "source": [
    "import glob\n",
    "import imageio\n",
    "import matplotlib.pyplot as plt\n",
    "import numpy as np\n",
    "import pandas as pd\n",
    "import os\n",
    "import PIL\n",
    "from tensorflow.keras import layers\n",
    "# import tensorflow_probability as tfp\n",
    "\n",
    "import time\n",
    "\n",
    "from IPython import display"
   ]
  },
  {
   "cell_type": "markdown",
   "metadata": {
    "id": "iYn4MdZnKCey"
   },
   "source": [
    "### Load and prepare the dataset"
   ]
  },
  {
   "cell_type": "code",
   "execution_count": 8,
   "metadata": {
    "id": "S4PIDhoDLbsZ"
   },
   "outputs": [],
   "source": [
    "BUFFER_SIZE = 60000\n",
    "BATCH_SIZE = 16"
   ]
  },
  {
   "cell_type": "code",
   "execution_count": 10,
   "metadata": {
    "id": "nAdNPonlPlPr"
   },
   "outputs": [],
   "source": [
    "import os\n",
    "import os.path as osp\n",
    "import cv2\n",
    "import numpy as np\n",
    "import pandas as pd\n",
    "\n",
    "path = '../padded_seg2ct3'\n",
    "# path = '../cropped_healthy_vertebra'\n",
    "\n",
    "images = []\n",
    "\n",
    "for image_file in os.listdir(path):\n",
    "\n",
    "    img = cv2.imread(osp.join(path, image_file), cv2.IMREAD_GRAYSCALE)\n",
    "    \n",
    "    imgflipleft = cv2.flip(img, 1)\n",
    "\n",
    "    imgflipup = cv2.flip(img, 0)\n",
    "\n",
    "    imgrot180 = cv2.rotate(img, cv2.ROTATE_180)\n",
    "    images.append(img)\n",
    "\n",
    "    images.append(imgflipleft)\n",
    "    images.append(imgflipup)\n",
    "    images.append(imgrot180)\n",
    "        \n",
    "images = np.array(images)"
   ]
  },
  {
   "cell_type": "code",
   "execution_count": 11,
   "metadata": {},
   "outputs": [
    {
     "data": {
      "text/plain": [
       "(34552, 128, 128)"
      ]
     },
     "execution_count": 11,
     "metadata": {},
     "output_type": "execute_result"
    }
   ],
   "source": [
    "images.shape"
   ]
  },
  {
   "cell_type": "code",
   "execution_count": 12,
   "metadata": {
    "id": "VwKMP7PxWPtw"
   },
   "outputs": [],
   "source": [
    "images = (images) / 255"
   ]
  },
  {
   "cell_type": "code",
   "execution_count": 16,
   "metadata": {},
   "outputs": [],
   "source": [
    "train_size = images.shape[0]\n",
    "images = images.reshape(images.shape[0], 128, 128, 1).astype('float32')\n"
   ]
  },
  {
   "cell_type": "code",
   "execution_count": 18,
   "metadata": {
    "colab": {
     "base_uri": "https://localhost:8080/",
     "height": 248
    },
    "id": "PBaFwv5sRQfy",
    "outputId": "c2cb6f8f-d64f-4707-c0b5-275a5b3fb3c0"
   },
   "outputs": [
    {
     "data": {
      "image/png": "[encoded data removed]",
      "text/plain": [
       "<Figure size 128x125 with 1 Axes>"
      ]
     },
     "metadata": {},
     "output_type": "display_data"
    }
   ],
   "source": [
    "import matplotlib.pyplot as plt\n",
    "\n",
    "my_dpi = 100\n",
    "plt.figure(figsize=(1.28, 1.25), dpi=my_dpi)\n",
    "plt.axis('off')\n",
    "plt.imshow((images[90,:,:,:]*127.5 + 127.5).astype('int'))\n",
    "plt.show()"
   ]
  },
  {
   "cell_type": "markdown",
   "metadata": {},
   "source": [
    "## Load the models"
   ]
  },
  {
   "cell_type": "code",
   "execution_count": 19,
   "metadata": {
    "id": "6bpTcDqoLWjY"
   },
   "outputs": [],
   "source": [
    "class CVAE(tf.keras.Model):\n",
    "  \"\"\"Convolutional variational autoencoder.\"\"\"\n",
    "\n",
    "  def __init__(self, latent_dim):\n",
    "    super(CVAE, self).__init__()\n",
    "    self.latent_dim = latent_dim\n",
    "    self.encoder = tf.keras.Sequential(\n",
    "        [\n",
    "            tf.keras.layers.InputLayer(input_shape=(128, 128, 1)),\n",
    "            tf.keras.layers.Conv2D(\n",
    "                filters=32, kernel_size=3, strides=(2, 2), activation='relu'),\n",
    "            tf.keras.layers.Conv2D(\n",
    "                filters=64, kernel_size=3, strides=(2, 2), activation='relu'),\n",
    "            tf.keras.layers.Flatten(),\n",
    "            # No activation\n",
    "            tf.keras.layers.Dense(latent_dim + latent_dim),\n",
    "        ]\n",
    "    )\n",
    "\n",
    "    self.decoder = tf.keras.Sequential(\n",
    "        [\n",
    "            tf.keras.layers.InputLayer(input_shape=(latent_dim,)),\n",
    "            tf.keras.layers.Dense(units=16*16*32, activation=tf.nn.relu),\n",
    "            tf.keras.layers.Reshape(target_shape=(16, 16, 32)),\n",
    "            tf.keras.layers.Conv2DTranspose(\n",
    "                filters=128, kernel_size=3, strides=2, padding='same',\n",
    "                activation='relu'),\n",
    "            tf.keras.layers.Conv2DTranspose(\n",
    "                filters=64, kernel_size=3, strides=2, padding='same',\n",
    "                activation='relu'),\n",
    "            tf.keras.layers.Conv2DTranspose(\n",
    "                filters=32, kernel_size=3, strides=2, padding='same',\n",
    "                activation='relu'),\n",
    "            # No activation\n",
    "            tf.keras.layers.Conv2DTranspose(\n",
    "                filters=1, kernel_size=3, strides=1, padding='same'),\n",
    "        ]\n",
    "    )\n",
    "\n",
    "  @tf.function\n",
    "  def sample(self, eps=None):\n",
    "    if eps is None:\n",
    "      eps = tf.random.normal(shape=(100, self.latent_dim))\n",
    "    return self.decode(eps, apply_sigmoid=True)\n",
    "\n",
    "  def encode(self, x):\n",
    "    mean, logvar = tf.split(self.encoder(x), num_or_size_splits=2, axis=1)\n",
    "    return mean, logvar\n",
    "\n",
    "  def reparameterize(self, mean, logvar):\n",
    "    eps = tf.random.normal(shape=mean.shape)\n",
    "    return eps * tf.exp(logvar * .5) + mean\n",
    "\n",
    "  def decode(self, z, apply_sigmoid=False):\n",
    "    logits = self.decoder(z)\n",
    "    if apply_sigmoid:\n",
    "      probs = tf.sigmoid(logits)\n",
    "      return probs\n",
    "    return logits\n",
    "\n",
    "  def generate(self, mean, logvar):\n",
    "    z = self.reparameterize(mean, logvar)\n",
    "    x_logit = self.decode(z, apply_sigmoid=True)\n",
    "    return x_logit"
   ]
  },
  {
   "cell_type": "code",
   "execution_count": 20,
   "metadata": {
    "colab": {
     "base_uri": "https://localhost:8080/",
     "height": 283
    },
    "id": "gl7jcC7TdPTG",
    "outputId": "205ee86a-1947-4393-e174-3f3f8d0bf341"
   },
   "outputs": [
    {
     "name": "stderr",
     "output_type": "stream",
     "text": [
      "2024-04-28 22:38:25.015427: I external/local_xla/xla/stream_executor/cuda/cuda_executor.cc:901] successful NUMA node read from SysFS had negative value (-1), but there must be at least one NUMA node, so returning NUMA node zero. See more at https://github.com/torvalds/linux/blob/v6.0/Documentation/ABI/testing/sysfs-bus-pci#L344-L355\n",
      "2024-04-28 22:38:25.043270: I external/local_xla/xla/stream_executor/cuda/cuda_executor.cc:901] successful NUMA node read from SysFS had negative value (-1), but there must be at least one NUMA node, so returning NUMA node zero. See more at https://github.com/torvalds/linux/blob/v6.0/Documentation/ABI/testing/sysfs-bus-pci#L344-L355\n",
      "2024-04-28 22:38:25.043424: I external/local_xla/xla/stream_executor/cuda/cuda_executor.cc:901] successful NUMA node read from SysFS had negative value (-1), but there must be at least one NUMA node, so returning NUMA node zero. See more at https://github.com/torvalds/linux/blob/v6.0/Documentation/ABI/testing/sysfs-bus-pci#L344-L355\n",
      "2024-04-28 22:38:25.044952: I external/local_xla/xla/stream_executor/cuda/cuda_executor.cc:901] successful NUMA node read from SysFS had negative value (-1), but there must be at least one NUMA node, so returning NUMA node zero. See more at https://github.com/torvalds/linux/blob/v6.0/Documentation/ABI/testing/sysfs-bus-pci#L344-L355\n",
      "2024-04-28 22:38:25.045060: I external/local_xla/xla/stream_executor/cuda/cuda_executor.cc:901] successful NUMA node read from SysFS had negative value (-1), but there must be at least one NUMA node, so returning NUMA node zero. See more at https://github.com/torvalds/linux/blob/v6.0/Documentation/ABI/testing/sysfs-bus-pci#L344-L355\n",
      "2024-04-28 22:38:25.045151: I external/local_xla/xla/stream_executor/cuda/cuda_executor.cc:901] successful NUMA node read from SysFS had negative value (-1), but there must be at least one NUMA node, so returning NUMA node zero. See more at https://github.com/torvalds/linux/blob/v6.0/Documentation/ABI/testing/sysfs-bus-pci#L344-L355\n",
      "2024-04-28 22:38:25.106378: I external/local_xla/xla/stream_executor/cuda/cuda_executor.cc:901] successful NUMA node read from SysFS had negative value (-1), but there must be at least one NUMA node, so returning NUMA node zero. See more at https://github.com/torvalds/linux/blob/v6.0/Documentation/ABI/testing/sysfs-bus-pci#L344-L355\n",
      "2024-04-28 22:38:25.106502: I external/local_xla/xla/stream_executor/cuda/cuda_executor.cc:901] successful NUMA node read from SysFS had negative value (-1), but there must be at least one NUMA node, so returning NUMA node zero. See more at https://github.com/torvalds/linux/blob/v6.0/Documentation/ABI/testing/sysfs-bus-pci#L344-L355\n",
      "2024-04-28 22:38:25.106599: I external/local_xla/xla/stream_executor/cuda/cuda_executor.cc:901] successful NUMA node read from SysFS had negative value (-1), but there must be at least one NUMA node, so returning NUMA node zero. See more at https://github.com/torvalds/linux/blob/v6.0/Documentation/ABI/testing/sysfs-bus-pci#L344-L355\n",
      "2024-04-28 22:38:25.106684: I tensorflow/core/common_runtime/gpu/gpu_device.cc:1929] Created device /job:localhost/replica:0/task:0/device:GPU:0 with 22223 MB memory:  -> device: 0, name: NVIDIA GeForce RTX 4090, pci bus id: 0000:01:00.0, compute capability: 8.9\n",
      "2024-04-28 22:38:25.520765: I external/local_xla/xla/stream_executor/cuda/cuda_dnn.cc:454] Loaded cuDNN version 8904\n"
     ]
    },
    {
     "data": {
      "text/plain": [
       "<matplotlib.image.AxesImage at 0x7958bc3619a0>"
      ]
     },
     "execution_count": 20,
     "metadata": {},
     "output_type": "execute_result"
    },
    {
     "data": {
      "image/png": "[encoded data removed]",
      "text/plain": [
       "<Figure size 640x480 with 1 Axes>"
      ]
     },
     "metadata": {},
     "output_type": "display_data"
    }
   ],
   "source": [
    "latent_dim = 100\n",
    "generator = CVAE(latent_dim)\n",
    "generator.load_weights('./synthetic_cts_variational_autoencoder_generator')\n",
    "\n",
    "noise_mean = tf.random.normal([1, latent_dim])\n",
    "noise_logvar = tf.random.normal([1, latent_dim])\n",
    "\n",
    "generated_image = generator.generate(noise_mean, noise_logvar)\n",
    "\n",
    "plt.imshow(generated_image[0, :, :, 0])"
   ]
  },
  {
   "cell_type": "code",
   "execution_count": 21,
   "metadata": {},
   "outputs": [
    {
     "data": {
      "text/plain": [
       "<tensorflow.python.checkpoint.checkpoint.CheckpointLoadStatus at 0x7958bc299be0>"
      ]
     },
     "execution_count": 21,
     "metadata": {},
     "output_type": "execute_result"
    }
   ],
   "source": [
    "VAE  = CVAE(latent_dim)\n",
    "VAE.load_weights('./synthetic_cts_var_ae')"
   ]
  },
  {
   "cell_type": "markdown",
   "metadata": {},
   "source": [
    "# Generation and Reconstruction Error Calculations "
   ]
  },
  {
   "cell_type": "code",
   "execution_count": 22,
   "metadata": {},
   "outputs": [
    {
     "name": "stderr",
     "output_type": "stream",
     "text": [
      "100%|██████████| 34552/34552 [00:59<00:00, 580.82it/s]\n"
     ]
    }
   ],
   "source": [
    "from tqdm import tqdm\n",
    "reconstructions_errors = []\n",
    "\n",
    "for image in tqdm(images):\n",
    "    mean, logvar = VAE.encode(np.reshape(image, (1, 128,128,1)))\n",
    "    z = VAE.reparameterize(mean, logvar)\n",
    "    predictions = VAE.sample(z)\n",
    "\n",
    "    error = np.array(((image - predictions[0])**2)).mean()\n",
    "    reconstructions_errors.append(error)"
   ]
  },
  {
   "cell_type": "code",
   "execution_count": 25,
   "metadata": {},
   "outputs": [
    {
     "name": "stderr",
     "output_type": "stream",
     "text": [
      "100%|██████████| 34552/34552 [01:04<00:00, 532.60it/s]\n"
     ]
    }
   ],
   "source": [
    "from tqdm import tqdm\n",
    "reconstructions_errors_random = []\n",
    "\n",
    "for i in tqdm(range(34552)):\n",
    "\n",
    "    \n",
    "    random_image = np.random.rand(1,128,128,1)\n",
    "\n",
    "    mean, logvar = VAE.encode(np.reshape(random_image, (1, 128,128,1)))\n",
    "    z = VAE.reparameterize(mean, logvar)\n",
    "    predictions = VAE.sample(z)\n",
    "\n",
    "    error = np.array(((random_image - predictions[0])**2)).mean()\n",
    "    reconstructions_errors_random.append(error)"
   ]
  },
  {
   "cell_type": "code",
   "execution_count": 26,
   "metadata": {},
   "outputs": [
    {
     "name": "stderr",
     "output_type": "stream",
     "text": [
      "100%|██████████| 34552/34552 [01:03<00:00, 548.23it/s]\n"
     ]
    }
   ],
   "source": [
    "from tqdm import tqdm\n",
    "reconstructions_errors_white = []\n",
    "\n",
    "for i in tqdm(range(34552)):\n",
    "\n",
    "    \n",
    "    white_image = np.ones((1,128,128,1))\n",
    "\n",
    "    mean, logvar = VAE.encode(np.reshape(white_image, (1, 128,128,1)))\n",
    "    z = VAE.reparameterize(mean, logvar)\n",
    "    predictions = VAE.sample(z)\n",
    "\n",
    "    error = np.array(((white_image - predictions[0])**2)).mean()\n",
    "    reconstructions_errors_white.append(error)"
   ]
  },
  {
   "cell_type": "code",
   "execution_count": 27,
   "metadata": {},
   "outputs": [
    {
     "name": "stderr",
     "output_type": "stream",
     "text": [
      "100%|██████████| 34000/34000 [02:28<00:00, 229.33it/s]\n"
     ]
    }
   ],
   "source": [
    "from tqdm import tqdm\n",
    "reconstructions_errors_generated = []\n",
    "\n",
    "for i in tqdm(range(34000)):\n",
    "    noise_mean = tf.random.normal([1, latent_dim])\n",
    "    noise_logvar = tf.random.normal([1, latent_dim])\n",
    "    \n",
    "    generated_image = generator.generate(noise_mean, noise_logvar)\n",
    "    mean, logvar = VAE.encode(np.reshape(generated_image, (1, 128,128,1)))\n",
    "    z = VAE.reparameterize(mean, logvar)\n",
    "    predictions = VAE.sample(z)\n",
    "\n",
    "    error = np.array(((generated_image - predictions[0])**2)).mean()\n",
    "    reconstructions_errors_generated.append(error)"
   ]
  },
  {
   "cell_type": "code",
   "execution_count": 28,
   "metadata": {},
   "outputs": [
    {
     "name": "stderr",
     "output_type": "stream",
     "text": [
      "100%|██████████| 34552/34552 [01:44<00:00, 329.62it/s]\n"
     ]
    }
   ],
   "source": [
    "from tqdm import tqdm\n",
    "reconstructions_errors_black_with_random = []\n",
    "\n",
    "for i in tqdm(range(34552)):\n",
    "\n",
    "    image = np.zeros((128,128))\n",
    "    image[128//2-25:128//2+25,128//2-25:128//2+25] = np.random.rand(50,50)\n",
    "\n",
    "    mean, logvar = VAE.encode(np.reshape(image, (1, 128,128,1)))\n",
    "    z = VAE.reparameterize(mean, logvar)\n",
    "    predictions = VAE.sample(z)\n",
    "\n",
    "    error = np.array(((image - predictions[0])**2)).mean()\n",
    "    reconstructions_errors_black_with_random.append(error)"
   ]
  },
  {
   "cell_type": "code",
   "execution_count": 33,
   "metadata": {},
   "outputs": [
    {
     "data": {
      "image/png": "[encoded data removed]",
      "text/plain": [
       "<Figure size 640x480 with 1 Axes>"
      ]
     },
     "metadata": {},
     "output_type": "display_data"
    }
   ],
   "source": [
    "plt.hist(reconstructions_errors,  \n",
    "         alpha=0.5, # the transaparency parameter \n",
    "         label='Real', bins=100, density=True)\n",
    "plt.hist(reconstructions_errors_generated,  \n",
    "         alpha=0.5, # the transaparency parameter \n",
    "         label='Generated', bins=100, density=True)\n",
    "plt.hist(reconstructions_errors_random,  \n",
    "         alpha=0.5, # the transaparency parameter \n",
    "         label='Random', bins=100, density=True)\n",
    "plt.hist(reconstructions_errors_black_with_random,  \n",
    "         alpha=0.5, # the transaparency parameter \n",
    "         label='Black with Random Center', bins=100, density=True)\n",
    "plt.xlabel(\"Reconstruction Error\")\n",
    "plt.ylabel(\"Density\")\n",
    "plt.legend()\n",
    "plt.show()"
   ]
  },
  {
   "cell_type": "code",
   "execution_count": 30,
   "metadata": {},
   "outputs": [],
   "source": [
    "average_error_real = sum(reconstructions_errors)/len(reconstructions_errors)"
   ]
  },
  {
   "cell_type": "code",
   "execution_count": 31,
   "metadata": {},
   "outputs": [],
   "source": [
    "average_error_gen = sum(reconstructions_errors_generated)/len(reconstructions_errors_generated)"
   ]
  },
  {
   "cell_type": "code",
   "execution_count": 32,
   "metadata": {},
   "outputs": [
    {
     "data": {
      "text/plain": [
       "0.7420599807288629"
      ]
     },
     "execution_count": 32,
     "metadata": {},
     "output_type": "execute_result"
    }
   ],
   "source": [
    "abs(average_error_real - average_error_gen)/average_error_real"
   ]
  },
  {
   "cell_type": "code",
   "execution_count": null,
   "metadata": {},
   "outputs": [],
   "source": []
  }
 ],
 "metadata": {
  "accelerator": "GPU",
  "colab": {
   "collapsed_sections": [],
   "provenance": []
  },
  "kernelspec": {
   "display_name": "Python 3 (ipykernel)",
   "language": "python",
   "name": "python3"
  },
  "language_info": {
   "codemirror_mode": {
    "name": "ipython",
    "version": 3
   },
   "file_extension": ".py",
   "mimetype": "text/x-python",
   "name": "python",
   "nbconvert_exporter": "python",
   "pygments_lexer": "ipython3",
   "version": "3.9.18"
  }
 },
 "nbformat": 4,
 "nbformat_minor": 4
}
